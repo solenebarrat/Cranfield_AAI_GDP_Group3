{
 "cells": [
  {
   "cell_type": "code",
   "execution_count": null,
   "id": "182b6bec",
   "metadata": {},
   "outputs": [],
   "source": [
    "import numpy as np\n",
    "import pandas as pd\n",
    "from tensorflow import keras\n",
    "import matplotlib.pyplot as plt\n",
    "from sklearn.preprocessing import MinMaxScaler\n",
    "from shapely.geometry import Point,Polygon,LineString\n",
    "import cv2 as cv\n",
    "import glob\n",
    "import pandas as pd\n",
    "import os"
   ]
  },
  {
   "cell_type": "code",
   "execution_count": null,
   "id": "164f8ada",
   "metadata": {},
   "outputs": [],
   "source": [
    "#Returns f(x)\n",
    "def f(x,a,b) : \n",
    "    y = a * x + b  \n",
    "    return y"
   ]
  },
  {
   "cell_type": "code",
   "execution_count": null,
   "id": "a59e04fb",
   "metadata": {},
   "outputs": [],
   "source": [
    "#Rotation matrix with an angle of alpha\n",
    "def rotation(alpha) :\n",
    "    return np.array([[np.cos(alpha), np.sin(alpha)],[-np.sin(alpha), np.cos(alpha)]])"
   ]
  },
  {
   "cell_type": "code",
   "execution_count": null,
   "id": "c5002db5",
   "metadata": {},
   "outputs": [],
   "source": [
    "#Region creation in function of the frame dimensions and the diagonals\n",
    "def Regions(W,H,Hips,rightline,leftline,keypoints,ndh_type) :\n",
    "    \n",
    "    #R1 & R2 \n",
    "    if(rightline[-1,0] == W) : #If the blue diagonal is touching the upper x-limit of the frame\n",
    "        R1 = [(Hips[0], Hips[1]), (Hips[0], 0), (W, 0), (W, rightline[-1,1])]\n",
    "        R2 = [(Hips[0], Hips[1]), (W, rightline[-1,1]), (W,Hips[1])]\n",
    "        \n",
    "    elif(rightline[-1,1] == 0) : #If the blue diagonal is touching the lower y-limit of the frame\n",
    "        R1 = [(Hips[0], Hips[1]), (Hips[0], 0), (rightline[-1,0], 0)]\n",
    "        R2 = [(Hips[0], Hips[1]), (rightline[-1,0], 0), (W, 0), (W,Hips[1])]\n",
    "        \n",
    "    else : #If the blue diagonal is exactly going through the right-hand upper corner of the frame\n",
    "        R1 = [(Hips[0], Hips[1]), (Hips[0], 0), (W, 0)]\n",
    "        R2 = [(Hips[0], Hips[1]), (W, 0),(W,Hips[1])]\n",
    "\n",
    "        \n",
    "    #R3 & R4    \n",
    "    if(leftline[-1,0] == W) : #If the red diagonal is touching the upper x-limit of the frame\n",
    "        R3 = [(Hips[0], Hips[1]), (W,Hips[1]), (W,leftline[-1,1])]\n",
    "        R4 = [(Hips[0], Hips[1]), (W,leftline[-1,1]), (W,H), (Hips[0],H)]\n",
    "        \n",
    "    elif(leftline[-1,1] == H) : #If the red diagonal is touching the upper y-limit of the frame\n",
    "        R3 = [(Hips[0], Hips[1]), (W,Hips[1]), (W,H), (leftline[-1,0],H)]\n",
    "        R4 = [(Hips[0], Hips[1]), (leftline[-1,0],H), (Hips[0],H)]\n",
    "        \n",
    "    else : #If the red diagonal is exactly going through the right-hand lower corner of the frame\n",
    "        R3 = [(Hips[0], Hips[1]), (W,Hips[1]), (W,H)]\n",
    "        R4 = [(Hips[0], Hips[1]), (W,H), (Hips[0],H)]\n",
    "\n",
    "        \n",
    "    #R5 & R6    \n",
    "    if(rightline[0,0] == 0) : #If the blue diagonal is touching the lower x-limit of the frame\n",
    "        R5 = [(Hips[0], Hips[1]), (Hips[0],H), (0,H), (0, rightline[0,1])]\n",
    "        R6 = [(Hips[0], Hips[1]), (0, rightline[0,1]), (0,Hips[1])]\n",
    "        \n",
    "    elif(rightline[0,1] == H) : #If the blue diagonal is touching the upper y-limit of the frame\n",
    "        R5 = [(Hips[0], Hips[1]), (Hips[0],H), (rightline[0,0],H)]\n",
    "        R6 = [(Hips[0], Hips[1]), (rightline[0,0],H), (0,H), (0,Hips[1])]\n",
    "        \n",
    "    else : #If the blue diagonal is exactly going through the left-hand lower corner of the frame\n",
    "        R5 = [(Hips[0], Hips[1]), (Hips[0],H), (0,H)]\n",
    "        R6 = [(Hips[0], Hips[1]), (0,H), (0,Hips[1])]\n",
    "\n",
    "        \n",
    "    #R7 & R8   \n",
    "    if(leftline[0,0] == 0) : #If the red diagonal is touching the lower x-limit of the frame\n",
    "        R7 = [(Hips[0], Hips[1]), (0,Hips[1]), (0,leftline[0,1])]\n",
    "        R8 = [(Hips[0], Hips[1]), (0,leftline[0,1]), (0,0), (Hips[0], 0)]\n",
    "\n",
    "    elif(leftline[0,1] == 0) : #If the red diagonal is touching the lower y-limit of the frame\n",
    "        R7 = [(Hips[0], Hips[1]), (0,Hips[1]), (0,0), (leftline[0,0],0)]\n",
    "        R8 = [(Hips[0], Hips[1]), (leftline[0,0],0), (Hips[0], 0)]\n",
    "        \n",
    "    else : #If the red diagonal is exactly going through the left-hand upper corner of the frame\n",
    "        R7 = [(Hips[0], Hips[1]), (0,Hips[1]), (0,0)]\n",
    "        R8 = [(Hips[0], Hips[1]), (0,0), (Hips[0], 0)]\n",
    "\n",
    "    #Creation of the polygons composed of the points defined earlier\n",
    "    poly_R1 = Polygon(R1)\n",
    "    poly_R2 = Polygon(R2)\n",
    "    poly_R3 = Polygon(R3)\n",
    "    poly_R4 = Polygon(R4)\n",
    "    poly_R5 = Polygon(R5)\n",
    "    poly_R6 = Polygon(R6)\n",
    "    poly_R7 = Polygon(R7)\n",
    "    poly_R8 = Polygon(R8)\n",
    "\n",
    "    #Matrix containing the keypoints in each region : size = (number of regions, number of keypoints)\n",
    "    R_key = np.zeros((8,len(keypoints[:,:])))\n",
    "    \n",
    "    #For every keypoint, we check in which polygon(region) they are contained\n",
    "    for i in range(len(keypoints[:,:])) :\n",
    "        if(keypoints[i,0] != 0 or keypoints[i,1] != 0) :\n",
    "            target = Point(keypoints[i,0], keypoints[i,1])\n",
    "            R_key[0,i] = poly_R1.contains(target)\n",
    "            R_key[1,i] = poly_R2.contains(target)\n",
    "            R_key[2,i] = poly_R3.contains(target)\n",
    "            R_key[3,i] = poly_R4.contains(target) \n",
    "            R_key[4,i] = poly_R5.contains(target)\n",
    "            R_key[5,i] = poly_R6.contains(target)\n",
    "            R_key[6,i] = poly_R7.contains(target)\n",
    "            R_key[7,i] = poly_R8.contains(target)\n",
    "\n",
    "            \n",
    "    #print(R_key)\n",
    "    #print(sum(R_key))\n",
    "    #print(np.sum(R_key, axis = 1))\n",
    "    if ndh_type == 'ndh' :\n",
    "    #The final NDH is the sum of the columns of the global region matrix\n",
    "        return np.sum(R_key, axis = 1)\n",
    "    else :\n",
    "        return R_key.reshape(1,8*len(keypoints[:,:]))"
   ]
  },
  {
   "cell_type": "code",
   "execution_count": null,
   "id": "ec572c38",
   "metadata": {},
   "outputs": [],
   "source": [
    "def NDH(keypoints,W,H,ndh_type) : \n",
    "        \n",
    "    x = np.linspace(0,W,num = 500)\n",
    "    y = np.linspace(0,H,num = 500)\n",
    "    \n",
    "    #NDH matrix containing (id,NDH) per human : size = \n",
    "                                #(number of humans, len(id) + len(region matrix)) = (number of humans, 9) (if image)\n",
    "                                #(number of frames for the tragetted human, 9) (if video)\n",
    "    \n",
    "    Hips = np.mean(np.concatenate((keypoints[8,:].reshape(1,2),keypoints[11,:].reshape(1,2)),axis = 0),axis=0).reshape(1,2)[0]\n",
    "    \n",
    "    #Diagonals computation\n",
    "    leftline = rotation(np.radians(45))@np.array([(Hips[0]*np.ones(len(x)) - Hips[0]),(y - Hips[1])]) + [np.ones(len(x))*Hips[0],np.ones(len(x))*Hips[1]]\n",
    "    rightline = rotation(np.radians(-45))@np.array([(Hips[0]*np.ones(len(x)) - Hips[0]),(y - Hips[1])]) + [np.ones(len(x))*Hips[0],np.ones(len(x))*Hips[1]]\n",
    "    coeff_left = np.polyfit(leftline[0], leftline[1], 1)\n",
    "    coeff_right = np.polyfit(rightline[0], rightline[1], 1)\n",
    "\n",
    "    leftline = np.concatenate((x.reshape(-1,1),f(x,coeff_left[0],coeff_left[1]).reshape(-1,1)),axis = 1)\n",
    "    rightline =  np.concatenate((x.reshape(-1,1),f(x,coeff_right[0],coeff_right[1]).reshape(-1,1)), axis = 1)\n",
    "\n",
    "    #NDH for every human in the frame\n",
    "    ndh = Regions(W,H,Hips,rightline,leftline,keypoints,ndh_type)\n",
    "        \n",
    "    return ndh"
   ]
  },
  {
   "cell_type": "code",
   "execution_count": null,
   "id": "b1cae50b",
   "metadata": {},
   "outputs": [],
   "source": [
    "def Display_img(frame,keypoints,label) :    \n",
    "    #Display of the keypoints, skeleton and bounding box of each human\n",
    "    img = cv.imread(frame)\n",
    "\n",
    "    thickness = 1\n",
    "    color_skeleton = (255, 180, 90)\n",
    "    color = (0,255,0)\n",
    "    color_box = (255,255,255)\n",
    "\n",
    "    #BODY_PARTS = { \"Nose\": 0, \"Neck\": 1, \"RShoulder\": 2, \"RElbow\": 3, \"RWrist\": 4, \"LShoulder\": 5, \n",
    "                  #\"LElbow\": 6, \"LWrist\": 7, \"RHip\": 8, \"RKnee\": 9, \"RAnkle\": 10, \"LHip\": 11, \"LKnee\": 12, \"LAnkle\": 13}\n",
    "    \n",
    "    \n",
    "    LINES_BODY = [[0,1],[1,2],[2,3],[3,4],[1,5],[5,6],[6,7],[1,8],[8,9],[9,10],[1,11],[11,12],[12,13]]\n",
    "\n",
    "    #Skeleton\n",
    "    lines = [np.array([np.int64(keypoints[point,:]) for point in line]) for line in LINES_BODY]\n",
    "    frame_keypoints = cv.polylines(img, lines, False, color_skeleton, 1, cv.LINE_AA)\n",
    "\n",
    "    #Keypoints\n",
    "    for j in range(len(keypoints)):       \n",
    "        cv.circle(img, (np.int64(keypoints[j,0]), np.int64(keypoints[j,1])), 2, color, -11)\n",
    "\n",
    "    cv.putText(img, frame.rsplit('/')[2] + '/' + frame.rsplit('/')[3], (20,20), cv.FONT_HERSHEY_SIMPLEX, 0.5, color_box, 1)\n",
    "    cv.putText(img, 'label : ' + str(label), (20, 40), cv.FONT_HERSHEY_SIMPLEX, 0.5, (0,0,255), 1)\n",
    "    \n",
    "    #cv.imwrite('GIF/'+frame.split('/')[-1], img)\n",
    "    cv.imshow(\"output\",img)\n",
    "    cv.waitKey(0)\n",
    "    cv.destroyAllWindows() "
   ]
  },
  {
   "cell_type": "markdown",
   "id": "d1fe2802",
   "metadata": {},
   "source": [
    "# I. Frame annotations processing"
   ]
  },
  {
   "cell_type": "markdown",
   "id": "2d4b8db1",
   "metadata": {},
   "source": [
    "## 1) Scenario dataset"
   ]
  },
  {
   "cell_type": "code",
   "execution_count": null,
   "id": "267211a1",
   "metadata": {},
   "outputs": [],
   "source": [
    "sc_number = 3  #1,2,3,5,6,7,10\n",
    "\n",
    "keypoints_dataframe = pd.DataFrame()\n",
    "\n",
    "for i in range(1,9) :\n",
    "    \n",
    "    path = \"DATA/SC\"+str(sc_number)+\"_Frames_annot/SF_cam\"+str(i)+\"_sc\"+str(sc_number)+\"\"\n",
    "\n",
    "    files = glob.glob(path + \"/*.csv\")\n",
    "\n",
    "    for filename in files:\n",
    "        df = pd.read_csv(filename, index_col=None)\n",
    "        df = pd.DataFrame(df)\n",
    "        \n",
    "        video_name = \"SF_cam\"+str(i)+\"_sc\"+str(sc_number)+\"\"\n",
    "        video = [video_name] * len(df)\n",
    "        df['Video'] = video\n",
    "        \n",
    "    frame = [keypoints_dataframe, df]\n",
    "    keypoints_dataframe = pd.concat(frame,axis = 0)\n",
    "    \n",
    "#with pd.option_context('display.max_rows', None, 'display.max_columns', None): \n",
    "keypoints_dataframe = keypoints_dataframe.set_index('Video')\n",
    "keypoints_dataframe"
   ]
  },
  {
   "cell_type": "markdown",
   "id": "491584c0",
   "metadata": {},
   "source": [
    "### Sort for every frame number in each video"
   ]
  },
  {
   "cell_type": "code",
   "execution_count": null,
   "id": "aabd62ba",
   "metadata": {},
   "outputs": [],
   "source": [
    "for i in range(1,9) :\n",
    "    set_KP = keypoints_dataframe.loc['SF_cam' + str(i) + '_sc'+str(sc_number)]\n",
    "    set_KP['frame2'] = set_KP['frame'].str.split('e',expand=True)[1]\n",
    "    set_KP['frame2'] = set_KP['frame2'].str.split('.',expand=True)[0].astype(int)\n",
    "    set_KP = set_KP.sort_values(by = ['frame2','KP'])\n",
    "    del set_KP['frame2']\n",
    "    keypoints_dataframe.loc['SF_cam' + str(i) + '_sc'+str(sc_number)] = set_KP\n",
    "    \n",
    "print(keypoints_dataframe)"
   ]
  },
  {
   "cell_type": "markdown",
   "id": "e09063c7",
   "metadata": {},
   "source": [
    "### Save keypoints"
   ]
  },
  {
   "cell_type": "code",
   "execution_count": null,
   "id": "a0674235",
   "metadata": {},
   "outputs": [],
   "source": [
    "keypoints_dataframe.to_csv('DATA/SC'+str(sc_number)+'_Frames_annot/SC'+str(sc_number)+'_Frames_annot.csv')\n",
    "#keypoints_dataframe = pd.read_csv(\"DATA/SC\"+str(sc_number)+\"_Frames_annot/SC\"+str(sc_number)+\"_Frames_annot.csv\",index_col = 0)\n",
    "keypoints_dataframe"
   ]
  },
  {
   "cell_type": "markdown",
   "id": "d6827747",
   "metadata": {},
   "source": [
    "## 2) Homemade dataset"
   ]
  },
  {
   "cell_type": "code",
   "execution_count": null,
   "id": "e3455d64",
   "metadata": {},
   "outputs": [],
   "source": [
    "keypoints_dataframe = pd.DataFrame()\n",
    "content = []\n",
    "\n",
    "for fall_number in range(3,13) :\n",
    "    \n",
    "    df = pd.read_csv(\"DATA/Falls_6frames/Fall_\"+str(fall_number)+\"/Fall_\"+str(fall_number)+\"_KP.csv\")\n",
    "    df = pd.DataFrame(df)\n",
    "\n",
    "    video_name = \"Fall_\"+str(fall_number)\n",
    "    video = [video_name] * len(df)\n",
    "    df['Video'] = video\n",
    "\n",
    "    frame = [keypoints_dataframe, df]\n",
    "    keypoints_dataframe = pd.concat(frame,axis = 0)\n",
    "    content = []\n",
    "    \n",
    "#with pd.option_context('display.max_rows', None, 'display.max_columns', None): \n",
    "keypoints_dataframe = keypoints_dataframe.set_index('Video')\n",
    "del keypoints_dataframe['KP_name']\n",
    "with pd.option_context('display.max_rows', None, 'display.max_columns', None) :\n",
    "    print(keypoints_dataframe)"
   ]
  },
  {
   "cell_type": "code",
   "execution_count": null,
   "id": "edee4bf3",
   "metadata": {},
   "outputs": [],
   "source": [
    "for fall_number in range(3,13) :\n",
    "    set_KP = keypoints_dataframe.loc['Fall_'+str(fall_number)]\n",
    "    set_KP['frame2'] = set_KP['frame'].str.split(str(fall_number)+\"_\",expand=True)[1]\n",
    "    set_KP['frame2'] = set_KP['frame2'].str.split('.',expand=True)[0].astype(int)\n",
    "    set_KP = set_KP.sort_values(by = ['frame2','KP'])\n",
    "    del set_KP['frame2']\n",
    "    keypoints_dataframe.loc['Fall_'+str(fall_number)] = set_KP\n",
    "    \n",
    "keypoints_dataframe"
   ]
  },
  {
   "cell_type": "markdown",
   "id": "138b5b9b",
   "metadata": {},
   "source": [
    "### Save keypoints"
   ]
  },
  {
   "cell_type": "code",
   "execution_count": null,
   "id": "d0951253",
   "metadata": {},
   "outputs": [],
   "source": [
    "keypoints_dataframe.to_csv('DATA/Falls_6frames/Falls_Frames_annot.csv')\n",
    "keypoints_dataframe"
   ]
  },
  {
   "cell_type": "markdown",
   "id": "42be6d19",
   "metadata": {},
   "source": [
    "# II. Label processing"
   ]
  },
  {
   "cell_type": "markdown",
   "id": "d3a82223",
   "metadata": {},
   "source": [
    "   ## 1) Fall scenarios dataset"
   ]
  },
  {
   "cell_type": "code",
   "execution_count": null,
   "id": "af2659ed",
   "metadata": {},
   "outputs": [],
   "source": [
    "sc_number = 3  #1,2,3,5,6,7,10\n",
    "\n",
    "labels_dataframe = pd.DataFrame()\n",
    "content = []\n",
    "    \n",
    "path = \"DATA/SC\"+str(sc_number)+\"_Frames_annot/sc\"+str(sc_number)+\"_labels\"\n",
    "\n",
    "files = glob.glob(path + \"/*.csv\")\n",
    "\n",
    "for filename in files:\n",
    "    df = pd.read_csv(filename, sep = ',', index_col=None)\n",
    "    \n",
    "    video_name = os.path.basename(filename).rsplit('.', 1)[0]\n",
    "    video = [video_name] * len(df)\n",
    "    df['Video'] = video\n",
    "    \n",
    "    content.append(df)    \n",
    "\n",
    "labels_dataframe = pd.concat(content)\n",
    "\n",
    "#with pd.option_context('display.max_rows', None, 'display.max_columns', None): \n",
    "labels_dataframe = labels_dataframe.set_index('Video')\n",
    "#print(labels_dataframe) "
   ]
  },
  {
   "cell_type": "code",
   "execution_count": null,
   "id": "84fb8401",
   "metadata": {},
   "outputs": [],
   "source": [
    "#trier en fonction de frame number\n",
    "for i in range(1,9) :\n",
    "    set_label = labels_dataframe.loc['cam' + str(i) + '_sc'+str(sc_number)+'_labels']\n",
    "    set_label['frame2'] = set_label['frame'].str.split('e',expand=True)[1]\n",
    "    set_label['frame2'] = set_label['frame2'].str.split('.',expand=True)[0].astype(int)\n",
    "    set_label = set_label.sort_values(by = ['frame2'])\n",
    "    del set_label['frame2']\n",
    "    \n",
    "    set_label['label2'] = set_label['label'].str.split('[',expand=True)[1]\n",
    "    set_label['label2'] = set_label['label2'].str.split(']',expand=True)[0]\n",
    "    set_label['label'] = set_label['label2']\n",
    "    del set_label['label2']\n",
    "    \n",
    "    labels_dataframe.loc['cam' + str(i) + '_sc'+str(sc_number)+'_labels'] = set_label"
   ]
  },
  {
   "cell_type": "code",
   "execution_count": null,
   "id": "616269db",
   "metadata": {},
   "outputs": [],
   "source": [
    "labels_dataframe\n",
    "labels_dataframe.to_csv('DATA/SC'+str(sc_number)+'_Frames_annot/SC'+str(sc_number)+'_Labels.csv')"
   ]
  },
  {
   "cell_type": "markdown",
   "id": "5ed1484a",
   "metadata": {},
   "source": [
    "## 2) Homemade dataset"
   ]
  },
  {
   "cell_type": "code",
   "execution_count": null,
   "id": "55cf4ad8",
   "metadata": {},
   "outputs": [],
   "source": [
    "labels_dataframe = pd.DataFrame()\n",
    "content = []\n",
    "\n",
    "for fall_number in range(3,13) :\n",
    "\n",
    "    df = pd.read_csv(\"DATA/Falls_6frames/Fall_\"+str(fall_number)+\"/Fall_\"+str(fall_number)+\"_labels.csv\")\n",
    "    df = pd.DataFrame(df)\n",
    "\n",
    "    video_name = \"Fall_\"+str(fall_number)\n",
    "    video = [video_name] * len(df)\n",
    "    df['Video'] = video\n",
    "    \n",
    "    frame = [labels_dataframe, df]\n",
    "    labels_dataframe = pd.concat(frame,axis = 0)\n",
    "    content = []\n",
    "    \n",
    "#with pd.option_context('display.max_rows', None, 'display.max_columns', None): \n",
    "labels_dataframe = labels_dataframe.set_index('Video')\n",
    "labels_dataframe"
   ]
  },
  {
   "cell_type": "code",
   "execution_count": null,
   "id": "a3181692",
   "metadata": {},
   "outputs": [],
   "source": [
    "for fall_number in range(3,13) :\n",
    "    set_label = labels_dataframe.loc['Fall_'+str(fall_number)]\n",
    "    set_label['frame2'] = set_label['frame'].str.split(str(fall_number)+\"_\",expand=True)[1]\n",
    "    set_label['frame2'] = set_label['frame2'].str.split('.',expand=True)[0].astype(int)\n",
    "    set_label = set_label.sort_values(by = ['frame2'])\n",
    "    del set_label['frame2']\n",
    "    \n",
    "    set_label['label2'] = set_label['label'].str.split('[',expand=True)[1]\n",
    "    set_label['label2'] = set_label['label2'].str.split(']',expand=True)[0]\n",
    "    set_label['label'] = set_label['label2']\n",
    "    del set_label['label2']\n",
    "    \n",
    "    labels_dataframe.loc['Fall_'+str(fall_number)] = set_label"
   ]
  },
  {
   "cell_type": "code",
   "execution_count": null,
   "id": "60d78dc7",
   "metadata": {},
   "outputs": [],
   "source": [
    "labels_dataframe\n",
    "labels_dataframe.to_csv('DATA/Falls_6frames/Falls_Labels.csv')"
   ]
  },
  {
   "cell_type": "markdown",
   "id": "3330023e",
   "metadata": {},
   "source": [
    "# III. NDH application\n",
    "## 1) Fall scenarios dataset"
   ]
  },
  {
   "cell_type": "code",
   "execution_count": null,
   "id": "1f805841",
   "metadata": {},
   "outputs": [],
   "source": [
    "ndh = np.zeros((np.int64(len(keypoints_dataframe)/14),8))\n",
    "ii = 0\n",
    "for i in range(1,9) :\n",
    "    KP = keypoints_dataframe.loc['SF_cam' + str(i) + '_sc'+str(sc_number)][['KP','x','y','W','H','frame']]\n",
    "    size = len(KP)\n",
    "    \n",
    "    keypoints = np.zeros((np.int64(size/14),14,2))\n",
    "    W = np.zeros((np.int64(size/14)))\n",
    "    H = np.zeros((np.int64(size/14)))\n",
    "    \n",
    "    for j in range(0,np.int64(size/14)):\n",
    "        KP2 = KP.iloc[j*14:j*14+14]\n",
    "        keypoints[j,:,:] = KP2[['x','y']].to_numpy()\n",
    "        W[j] = KP2['W'][j]\n",
    "        H[j] = KP2['H'][j]\n",
    "        \n",
    "        ndh[ii,:] = NDH(keypoints[j,:,:],W[j],H[j],'ndh')\n",
    "        frame = KP2['frame'][j]\n",
    "        frame = 'DATA/SC'+str(sc_number)+'_Frames_annot/SF_cam' + str(i) + '_sc'+str(sc_number)+'/'+frame\n",
    "        #Display_img(frame,keypoints[j,:,:],labels_dataframe['label'].iloc[ii])\n",
    "        ii += 1"
   ]
  },
  {
   "cell_type": "code",
   "execution_count": null,
   "id": "d7dc6784",
   "metadata": {},
   "outputs": [],
   "source": [
    "print(ndh.shape)"
   ]
  },
  {
   "cell_type": "code",
   "execution_count": null,
   "id": "1a372375",
   "metadata": {},
   "outputs": [],
   "source": [
    "np.savetxt('DATA/SC'+str(sc_number)+'_Frames_annot/SC'+str(sc_number)+'_NDH.csv', ndh, delimiter=\",\")"
   ]
  },
  {
   "cell_type": "markdown",
   "id": "1aa56ac6",
   "metadata": {},
   "source": [
    "## 2) Homemade dataset"
   ]
  },
  {
   "cell_type": "code",
   "execution_count": null,
   "id": "d5b197e8",
   "metadata": {},
   "outputs": [],
   "source": [
    "keypoints_dataframe = pd.read_csv(\"DATA/Falls_6frames/Falls_Frames_annot.csv\", index_col = 0)\n",
    "labels_dataframe = pd.read_csv(\"DATA/Falls_6frames/Falls_Labels.csv\", index_col = 0)\n",
    "\n",
    "ndh = np.zeros((np.int64(len(keypoints_dataframe)/14),8))\n",
    "ii = 0\n",
    "\n",
    "for fall_number in range(3,13) : #3,13\n",
    "    KP = keypoints_dataframe.loc['Fall_'+str(fall_number)][['KP','x','y','W','H','frame']]\n",
    "    size = len(KP)\n",
    "    \n",
    "    keypoints = np.zeros((np.int64(size/14),14,2))\n",
    "    W = np.zeros((np.int64(size/14)))\n",
    "    H = np.zeros((np.int64(size/14)))\n",
    "    \n",
    "    for j in range(0,np.int64(size/14)):\n",
    "        KP2 = KP.iloc[j*14:j*14+14]\n",
    "        #print(labels_dataframe['label'].iloc[ii])\n",
    "        keypoints[j,:,:] = KP2[['x','y']].to_numpy()\n",
    "        W[j] = KP2['W'][0]\n",
    "        H[j] = KP2['H'][0]\n",
    "        \n",
    "        ndh[ii,:] = NDH(keypoints[j,:,:],W[j],H[j],'ndh')\n",
    "        frame = KP2['frame'][0]\n",
    "        frame = 'DATA/Falls/Fall_'+str(fall_number)+'/'+frame\n",
    "        #Display_img(frame,keypoints[j,:,:],labels_dataframe['label'].iloc[ii])\n",
    "        ii += 1"
   ]
  },
  {
   "cell_type": "code",
   "execution_count": null,
   "id": "2810fd1f",
   "metadata": {},
   "outputs": [],
   "source": [
    "#print(ndh)\n",
    "np.savetxt('DATA/Falls_6frames/Falls_NDH.csv', ndh, delimiter=\",\")"
   ]
  },
  {
   "cell_type": "markdown",
   "id": "baac5a2b",
   "metadata": {},
   "source": [
    "# IV. RegKey application"
   ]
  },
  {
   "cell_type": "markdown",
   "id": "c8d31a47",
   "metadata": {},
   "source": [
    "## 1) Fall scenarios dataset"
   ]
  },
  {
   "cell_type": "code",
   "execution_count": null,
   "id": "4ad3eb8d",
   "metadata": {},
   "outputs": [],
   "source": [
    "sc_list = [1,2,3,5,6,7,10]\n",
    "\n",
    "for sc_number in sc_list :\n",
    "    keypoints_dataframe = pd.read_csv(\"DATA/SC\"+str(sc_number)+\"_Frames_annot/SC\"+str(sc_number)+\"_Frames_annot.csv\",index_col = 0)\n",
    "    labels_dataframe = pd.read_csv(\"DATA/SC\"+str(sc_number)+\"_Frames_annot/SC\"+str(sc_number)+\"_Labels.csv\",index_col = 0)\n",
    "    ndh = np.zeros((np.int64(len(keypoints_dataframe)/14),8*14))\n",
    "    ii = 0\n",
    "    for i in range(1,9) :\n",
    "        KP = keypoints_dataframe.loc['SF_cam' + str(i) + '_sc'+str(sc_number)][['KP','x','y','W','H','frame']]\n",
    "        size = len(KP)\n",
    "\n",
    "        keypoints = np.zeros((np.int64(size/14),14,2))\n",
    "        W = np.zeros((np.int64(size/14)))\n",
    "        H = np.zeros((np.int64(size/14)))\n",
    "\n",
    "        for j in range(0,np.int64(size/14)):\n",
    "            KP2 = KP.iloc[j*14:j*14+14]\n",
    "            keypoints[j,:,:] = KP2[['x','y']].to_numpy()\n",
    "            W[j] = KP2['W'][j]\n",
    "            H[j] = KP2['H'][j]\n",
    "\n",
    "            ndh[ii,:] = NDH(keypoints[j,:,:],W[j],H[j],'RegKey')\n",
    "            frame = KP2['frame'][j]\n",
    "            frame = 'DATA/SC'+str(sc_number)+'_Frames_annot/SF_cam' + str(i) + '_sc'+str(sc_number)+'/'+frame\n",
    "            #Display_img(frame,keypoints[j,:,:],labels_dataframe['label'].iloc[ii])\n",
    "            ii += 1\n",
    "    np.savetxt('DATA/SC'+str(sc_number)+'_Frames_annot/SC'+str(sc_number)+'_RegKey.csv', ndh, delimiter=\",\")"
   ]
  },
  {
   "cell_type": "markdown",
   "id": "660ba937",
   "metadata": {},
   "source": [
    "## 2) Homemade dataset"
   ]
  },
  {
   "cell_type": "code",
   "execution_count": null,
   "id": "68725773",
   "metadata": {},
   "outputs": [],
   "source": [
    "keypoints_dataframe = pd.read_csv(\"DATA/Falls/Falls_Frames_annot.csv\", index_col = 0)\n",
    "labels_dataframe = pd.read_csv(\"DATA/Falls/Falls_Labels.csv\", index_col = 0)\n",
    "\n",
    "ndh = np.zeros((np.int64(len(keypoints_dataframe)/14),8*14))\n",
    "ii = 0\n",
    "REGKEY = pd.DataFrame()\n",
    "\n",
    "\n",
    "for fall_number in range(3,13) : #3,13\n",
    "    KP = keypoints_dataframe.loc['Fall_'+str(fall_number)][['KP','x','y','W','H','frame']]\n",
    "    size = len(KP)\n",
    "    \n",
    "    keypoints = np.zeros((np.int64(size/14),14,2))\n",
    "    W = np.zeros((np.int64(size/14)))\n",
    "    H = np.zeros((np.int64(size/14)))\n",
    "    \n",
    "    for j in range(0,np.int64(size/14)):\n",
    "        KP2 = KP.iloc[j*14:j*14+14]\n",
    "        #print(labels_dataframe['label'].iloc[ii])\n",
    "        keypoints[j,:,:] = KP2[['x','y']].to_numpy()\n",
    "        W[j] = KP2['W'][0]\n",
    "        H[j] = KP2['H'][0]\n",
    "        \n",
    "        ndh[ii,:] = NDH(keypoints[j,:,:],W[j],H[j],'RegKey')\n",
    "        frame = KP2['frame'][0]\n",
    "        frame = 'DATA/Falls/Fall_'+str(fall_number)+'/'+frame\n",
    "        #Display_img(frame,keypoints[j,:,:],labels_dataframe['label'].iloc[ii])\n",
    "        ii += 1\n",
    "    \n",
    "    #print(ndh[ii-np.int64(size/14) :ii,:])\n",
    "    \n",
    "    df = pd.DataFrame(ndh[ii-np.int64(size/14) :ii,:])\n",
    "    video_name = \"Fall_\" + str(fall_number) \n",
    "    video = [video_name] * len(df)\n",
    "    df['Video'] = video\n",
    "                \n",
    "    frame = [REGKEY, df]\n",
    "    REGKEY = pd.concat(frame,axis = 0)"
   ]
  },
  {
   "cell_type": "code",
   "execution_count": null,
   "id": "e669ecef",
   "metadata": {},
   "outputs": [],
   "source": [
    "REGKEY = REGKEY.set_index('Video')\n",
    "REGKEY"
   ]
  },
  {
   "cell_type": "code",
   "execution_count": null,
   "id": "b04132b6",
   "metadata": {},
   "outputs": [],
   "source": [
    "np.savetxt('DATA/Falls/Falls_RegKey.csv', ndh, delimiter=\",\")\n",
    "REGKEY.to_csv('DATA/Falls/Falls_RegKey_DataFrame.csv')"
   ]
  },
  {
   "cell_type": "code",
   "execution_count": null,
   "id": "a0b59c87",
   "metadata": {},
   "outputs": [],
   "source": [
    "print(ndh)\n",
    "print(ndh.shape)\n",
    "print(8*14)"
   ]
  },
  {
   "cell_type": "markdown",
   "id": "7894fa9f",
   "metadata": {},
   "source": [
    "# extra"
   ]
  },
  {
   "cell_type": "code",
   "execution_count": null,
   "id": "2c251175",
   "metadata": {},
   "outputs": [],
   "source": [
    "keypoints_dataframe = pd.read_csv(\"DATA/Falls/Falls_Frames_annot.csv\", index_col = 0)\n",
    "labels_dataframe = pd.read_csv(\"DATA/Falls/Falls_Labels.csv\", index_col = 0)\n",
    "\n",
    "ndh = np.zeros((np.int64(len(keypoints_dataframe)/14),8*14))\n",
    "ii = 43\n",
    "\n",
    "for fall_number in range(8,9) : #3,13\n",
    "    KP = keypoints_dataframe.loc['Fall_'+str(fall_number)][['KP','x','y','W','H','frame']]\n",
    "    size = len(KP)\n",
    "    \n",
    "    keypoints = np.zeros((np.int64(size/14),14,2))\n",
    "    W = np.zeros((np.int64(size/14)))\n",
    "    H = np.zeros((np.int64(size/14)))\n",
    "    \n",
    "    for j in range(0,np.int64(size/14)):\n",
    "        KP2 = KP.iloc[j*14:j*14+14]\n",
    "        #print(labels_dataframe['label'].iloc[ii])\n",
    "        keypoints[j,:,:] = KP2[['x','y']].to_numpy()\n",
    "        W[j] = KP2['W'][0]\n",
    "        H[j] = KP2['H'][0]\n",
    "        \n",
    "        ndh[ii,:] = NDH(keypoints[j,:,:],W[j],H[j],'RegKey')\n",
    "        frame = KP2['frame'][0]\n",
    "        frame = 'DATA/Falls/Fall_'+str(fall_number)+'/'+frame\n",
    "        Display_img(frame,keypoints[j,:,:],labels_dataframe['label'].iloc[ii])\n",
    "        ii += 1"
   ]
  },
  {
   "cell_type": "code",
   "execution_count": null,
   "id": "24b706e6",
   "metadata": {},
   "outputs": [],
   "source": [
    "print(ndh[ii-13].reshape(8,14))"
   ]
  },
  {
   "cell_type": "code",
   "execution_count": null,
   "id": "5f4f6865",
   "metadata": {},
   "outputs": [],
   "source": []
  }
 ],
 "metadata": {
  "kernelspec": {
   "display_name": "openvino_env",
   "language": "python",
   "name": "openvino_env"
  },
  "language_info": {
   "codemirror_mode": {
    "name": "ipython",
    "version": 3
   },
   "file_extension": ".py",
   "mimetype": "text/x-python",
   "name": "python",
   "nbconvert_exporter": "python",
   "pygments_lexer": "ipython3",
   "version": "3.9.7"
  }
 },
 "nbformat": 4,
 "nbformat_minor": 5
}
